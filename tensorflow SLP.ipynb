{
 "cells": [
  {
   "cell_type": "code",
   "execution_count": 1,
   "id": "5fa69f30",
   "metadata": {},
   "outputs": [],
   "source": [
    "import numpy as np\n",
    "import pandas as pd\n",
    "import matplotlib.pyplot as plt\n",
    "import tensorflow as tf\n",
    "from sklearn.preprocessing import LabelBinarizer\n",
    "import keras"
   ]
  },
  {
   "cell_type": "code",
   "execution_count": 2,
   "id": "99a8d3eb",
   "metadata": {},
   "outputs": [],
   "source": [
    "def load_mnist(flatten = False):    \n",
    "    (X_train,Y_train),(X_test,Y_test) = tf.keras.datasets.mnist.load_data()\n",
    "    \n",
    "    #normalization\n",
    "    X_train = X_train.astype(float)/255\n",
    "    X_test = X_test.astype(float)/255\n",
    " \n",
    "    #data separation\n",
    "    X_train = X_train[:-10000]\n",
    "    X_val = X_train[-10000:]\n",
    "    Y_train = Y_train[:-10000]\n",
    "    Y_val = Y_train[-10000:]\n",
    "    \n",
    "    print(X_train.shape,Y_train.shape,X_val.shape,Y_val.shape,X_test.shape,Y_test.shape)\n",
    "    if flatten:\n",
    "        X_train = X_train.reshape([X_train.shape[0],-1])\n",
    "        X_val = X_val.reshape([X_val.shape[0],-1])\n",
    "        X_test = X_test.reshape([X_test.shape[0],-1])\n",
    "    return X_train,Y_train,X_val,Y_val,X_test,Y_test"
   ]
  },
  {
   "cell_type": "code",
   "execution_count": 3,
   "id": "3a9614b3",
   "metadata": {},
   "outputs": [
    {
     "name": "stdout",
     "output_type": "stream",
     "text": [
      "(50000, 28, 28) (50000,) (10000, 28, 28) (10000,) (10000, 28, 28) (10000,)\n"
     ]
    }
   ],
   "source": [
    "X_train,Y_train,X_val,Y_val,X_test,Y_test = load_mnist()"
   ]
  },
  {
   "cell_type": "code",
   "execution_count": 4,
   "id": "7c1dca49",
   "metadata": {},
   "outputs": [
    {
     "name": "stdout",
     "output_type": "stream",
     "text": [
      "5\n"
     ]
    },
    {
     "data": {
      "text/plain": [
       "<matplotlib.image.AxesImage at 0x149dbbbdbe0>"
      ]
     },
     "execution_count": 4,
     "metadata": {},
     "output_type": "execute_result"
    },
    {
     "data": {
      "image/png": "[encoded data removed]",
      "text/plain": [
       "<Figure size 432x288 with 1 Axes>"
      ]
     },
     "metadata": {
      "needs_background": "light"
     },
     "output_type": "display_data"
    }
   ],
   "source": [
    "print(Y_train[0])\n",
    "plt.imshow(X_train[0],cmap='Greys')"
   ]
  },
  {
   "cell_type": "markdown",
   "id": "1f12b645",
   "metadata": {},
   "source": [
    "### Changing Dimension of input from N * 28 * 28 to N * 784"
   ]
  },
  {
   "cell_type": "code",
   "execution_count": 5,
   "id": "3e3fa03b",
   "metadata": {},
   "outputs": [
    {
     "data": {
      "text/plain": [
       "784"
      ]
     },
     "execution_count": 5,
     "metadata": {},
     "output_type": "execute_result"
    }
   ],
   "source": [
    "28*28"
   ]
  },
  {
   "cell_type": "code",
   "execution_count": 6,
   "id": "157ef35c",
   "metadata": {},
   "outputs": [
    {
     "data": {
      "text/plain": [
       "50000"
      ]
     },
     "execution_count": 6,
     "metadata": {},
     "output_type": "execute_result"
    }
   ],
   "source": [
    "X_train.shape[0]"
   ]
  },
  {
   "cell_type": "code",
   "execution_count": 7,
   "id": "3e57612f",
   "metadata": {},
   "outputs": [
    {
     "data": {
      "text/plain": [
       "(50000, 784)"
      ]
     },
     "execution_count": 7,
     "metadata": {},
     "output_type": "execute_result"
    }
   ],
   "source": [
    "X_train = X_train.reshape(X_train.shape[0],X_train.shape[1]*X_train.shape[2])\n",
    "X_train.shape"
   ]
  },
  {
   "cell_type": "code",
   "execution_count": 8,
   "id": "015c2995",
   "metadata": {},
   "outputs": [
    {
     "data": {
      "text/plain": [
       "(10000, 784)"
      ]
     },
     "execution_count": 8,
     "metadata": {},
     "output_type": "execute_result"
    }
   ],
   "source": [
    "X_test = X_test.reshape(X_test.shape[0],X_test.shape[1]*X_test.shape[2])\n",
    "X_test.shape"
   ]
  },
  {
   "cell_type": "code",
   "execution_count": 9,
   "id": "bd22f20c",
   "metadata": {},
   "outputs": [
    {
     "data": {
      "text/plain": [
       "array([[0, 0, 0, ..., 0, 0, 0],\n",
       "       [1, 0, 0, ..., 0, 0, 0],\n",
       "       [0, 0, 0, ..., 0, 0, 0],\n",
       "       ...,\n",
       "       [0, 0, 0, ..., 0, 1, 0],\n",
       "       [0, 0, 0, ..., 0, 0, 0],\n",
       "       [0, 0, 0, ..., 0, 1, 0]])"
      ]
     },
     "execution_count": 9,
     "metadata": {},
     "output_type": "execute_result"
    }
   ],
   "source": [
    "Y_train = LabelBinarizer().fit_transform(Y_train)\n",
    "Y_test = LabelBinarizer().fit_transform(Y_test)\n",
    "Y_train"
   ]
  },
  {
   "cell_type": "code",
   "execution_count": 10,
   "id": "40e937b2",
   "metadata": {},
   "outputs": [
    {
     "name": "stdout",
     "output_type": "stream",
     "text": [
      "(50000, 10)\n",
      "(10000, 10)\n"
     ]
    }
   ],
   "source": [
    "print(Y_train.shape)\n",
    "print(Y_test.shape)"
   ]
  },
  {
   "cell_type": "code",
   "execution_count": 11,
   "id": "949c3a3a",
   "metadata": {},
   "outputs": [],
   "source": [
    "num_classes = Y_train.shape[1]\n",
    "num_feat = X_train.shape[1]\n",
    "num_out = Y_train.shape[1]\n",
    "num_layers_0 = 512\n",
    "num_layers_1 = 256\n",
    "start_learning_rate = 0.001\n",
    "regularizer_rate = 0.1"
   ]
  },
  {
   "cell_type": "code",
   "execution_count": 12,
   "id": "1f5dddf4",
   "metadata": {},
   "outputs": [
    {
     "name": "stdout",
     "output_type": "stream",
     "text": [
      "WARNING:tensorflow:From C:\\Users\\durat\\anaconda3\\envs\\ev_2\\lib\\site-packages\\tensorflow\\python\\compat\\v2_compat.py:101: disable_resource_variables (from tensorflow.python.ops.variable_scope) is deprecated and will be removed in a future version.\n",
      "Instructions for updating:\n",
      "non-resource variables are not supported in the long term\n"
     ]
    }
   ],
   "source": [
    "import tensorflow.compat.v1 as tf\n",
    "tf.disable_v2_behavior()"
   ]
  },
  {
   "cell_type": "markdown",
   "id": "358bce96",
   "metadata": {},
   "source": [
    "# Placeholder"
   ]
  },
  {
   "cell_type": "code",
   "execution_count": 13,
   "id": "7e37dff7",
   "metadata": {},
   "outputs": [],
   "source": [
    "input_X = tf.placeholder('float32',shape=(None,num_feat),name='input_X')\n",
    "input_Y = tf.placeholder('float32',shape=(None,num_classes),name='input_Y')\n",
    "keep_prob = tf.placeholder(tf.float32)"
   ]
  },
  {
   "cell_type": "markdown",
   "id": "9416b45e",
   "metadata": {},
   "source": [
    "# Initialization"
   ]
  },
  {
   "cell_type": "code",
   "execution_count": 14,
   "id": "90555c89",
   "metadata": {},
   "outputs": [],
   "source": [
    "w0 = tf.Variable(tf.random_normal([num_feat, num_layers_0],stddev=1/tf.sqrt(float(num_feat))))\n",
    "b0 = tf.Variable(tf.random_normal([num_layers_0]))\n",
    "w1 = tf.Variable(tf.random_normal([num_layers_0, num_layers_1],stddev=1/tf.sqrt(float(num_layers_0))))\n",
    "b1 = tf.Variable(tf.random_normal([num_layers_1]))\n",
    "w2 = tf.Variable(tf.random_normal([num_layers_1, num_out],stddev=1/tf.sqrt(float(num_layers_1))))\n",
    "b2 = tf.Variable(tf.random_normal([num_out]))"
   ]
  },
  {
   "cell_type": "markdown",
   "id": "a1cf1dd2",
   "metadata": {},
   "source": [
    "# Activation Function"
   ]
  },
  {
   "cell_type": "code",
   "execution_count": 15,
   "id": "139e34e2",
   "metadata": {},
   "outputs": [
    {
     "name": "stdout",
     "output_type": "stream",
     "text": [
      "WARNING:tensorflow:From C:\\Users\\durat\\anaconda3\\envs\\ev_2\\lib\\site-packages\\tensorflow\\python\\util\\dispatch.py:206: calling dropout (from tensorflow.python.ops.nn_ops) with keep_prob is deprecated and will be removed in a future version.\n",
      "Instructions for updating:\n",
      "Please use `rate` instead of `keep_prob`. Rate should be set to `rate = 1 - keep_prob`.\n"
     ]
    }
   ],
   "source": [
    "hidden_output_0 = tf.nn.relu(tf.matmul(input_X,w0)+b0)\n",
    "hidden_output_0_0 = tf.nn.dropout(hidden_output_0,keep_prob)\n",
    "hidden_output_1 = tf.nn.relu(tf.matmul(hidden_output_0_0,w1)+b1)\n",
    "hidden_output_1_1 = tf.nn.dropout(hidden_output_1,keep_prob)\n",
    "predicted_y = tf.sigmoid(tf.matmul(hidden_output_1_1,w2)+b2)"
   ]
  },
  {
   "cell_type": "markdown",
   "id": "534ccf01",
   "metadata": {},
   "source": [
    "# Loss Function"
   ]
  },
  {
   "cell_type": "code",
   "execution_count": 16,
   "id": "2858a469",
   "metadata": {},
   "outputs": [
    {
     "name": "stdout",
     "output_type": "stream",
     "text": [
      "WARNING:tensorflow:From C:\\Users\\durat\\anaconda3\\envs\\ev_2\\lib\\site-packages\\tensorflow\\python\\util\\dispatch.py:206: softmax_cross_entropy_with_logits (from tensorflow.python.ops.nn_ops) is deprecated and will be removed in a future version.\n",
      "Instructions for updating:\n",
      "\n",
      "Future major versions of TensorFlow will allow gradients to flow\n",
      "into the labels input on backprop by default.\n",
      "\n",
      "See `tf.nn.softmax_cross_entropy_with_logits_v2`.\n",
      "\n"
     ]
    }
   ],
   "source": [
    "loss = tf.reduce_mean(tf.nn.softmax_cross_entropy_with_logits(logits=predicted_y,labels=input_Y))+regularizer_rate*(tf.reduce_mean(tf.square(b0)))*(tf.reduce_mean(tf.square(b1)))"
   ]
  },
  {
   "cell_type": "markdown",
   "id": "b204e2fd",
   "metadata": {},
   "source": [
    "# Backtrack using optimizer"
   ]
  },
  {
   "cell_type": "code",
   "execution_count": 17,
   "id": "92475a64",
   "metadata": {},
   "outputs": [],
   "source": [
    "learning_rate = tf.train.exponential_decay(start_learning_rate,0,5,0.85,staircase=True)\n",
    "optimizer = tf.train.AdamOptimizer(learning_rate).minimize(loss,var_list=[w0,w1,w2,b0,b1,b2])"
   ]
  },
  {
   "cell_type": "code",
   "execution_count": 18,
   "id": "a4ef77c3",
   "metadata": {},
   "outputs": [],
   "source": [
    "correct_pred = tf.equal(tf.argmax(Y_train,1),tf.argmax(predicted_y,1))\n",
    "accuracy = tf.reduce_mean(tf.cast(correct_pred,tf.float32))"
   ]
  },
  {
   "cell_type": "code",
   "execution_count": 19,
   "id": "45585410",
   "metadata": {},
   "outputs": [],
   "source": [
    "batch_size = 128\n",
    "epochs = 125\n",
    "dropout_prob = 0.6"
   ]
  },
  {
   "cell_type": "code",
   "execution_count": 20,
   "id": "0c98052f",
   "metadata": {},
   "outputs": [],
   "source": [
    "training_accuracy = []\n",
    "training_loss = []\n",
    "testing_accuracy = []"
   ]
  },
  {
   "cell_type": "code",
   "execution_count": 21,
   "id": "06e883b7",
   "metadata": {},
   "outputs": [],
   "source": [
    "s = tf.InteractiveSession()"
   ]
  },
  {
   "cell_type": "code",
   "execution_count": 22,
   "id": "1e607efa",
   "metadata": {},
   "outputs": [],
   "source": [
    "from sklearn.metrics import accuracy_score"
   ]
  },
  {
   "cell_type": "code",
   "execution_count": 23,
   "id": "22d7c0ab",
   "metadata": {},
   "outputs": [
    {
     "name": "stdout",
     "output_type": "stream",
     "text": [
      "[] [] []\n"
     ]
    }
   ],
   "source": [
    "print(training_loss,training_accuracy,testing_accuracy)"
   ]
  },
  {
   "cell_type": "code",
   "execution_count": null,
   "id": "a4aebb9b",
   "metadata": {},
   "outputs": [
    {
     "name": "stdout",
     "output_type": "stream",
     "text": [
      "Epochs:0, Train loss:2.40,Train accu:0.128,Test accu:0.130300\n",
      "Epochs:1, Train loss:2.38,Train accu:0.103,Test accu:0.101900\n",
      "Epochs:2, Train loss:2.36,Train accu:0.112,Test accu:0.111900\n",
      "Epochs:3, Train loss:2.34,Train accu:0.163,Test accu:0.165700\n",
      "Epochs:4, Train loss:2.31,Train accu:0.278,Test accu:0.274400\n",
      "Epochs:5, Train loss:2.29,Train accu:0.345,Test accu:0.346300\n",
      "Epochs:6, Train loss:2.27,Train accu:0.334,Test accu:0.336000\n",
      "Epochs:7, Train loss:2.23,Train accu:0.363,Test accu:0.371700\n",
      "Epochs:8, Train loss:2.20,Train accu:0.432,Test accu:0.441900\n",
      "Epochs:9, Train loss:2.18,Train accu:0.524,Test accu:0.532100\n",
      "Epochs:10, Train loss:2.15,Train accu:0.581,Test accu:0.581900\n",
      "Epochs:11, Train loss:2.13,Train accu:0.597,Test accu:0.599100\n",
      "Epochs:12, Train loss:2.11,Train accu:0.601,Test accu:0.603000\n",
      "Epochs:13, Train loss:2.09,Train accu:0.611,Test accu:0.614800\n",
      "Epochs:14, Train loss:2.06,Train accu:0.639,Test accu:0.643700\n",
      "Epochs:15, Train loss:2.04,Train accu:0.685,Test accu:0.693800\n",
      "Epochs:16, Train loss:2.01,Train accu:0.740,Test accu:0.756500\n",
      "Epochs:17, Train loss:1.99,Train accu:0.757,Test accu:0.770400\n",
      "Epochs:18, Train loss:1.97,Train accu:0.750,Test accu:0.759200\n",
      "Epochs:19, Train loss:1.96,Train accu:0.741,Test accu:0.747400\n",
      "Epochs:20, Train loss:1.94,Train accu:0.732,Test accu:0.736500\n",
      "Epochs:21, Train loss:1.93,Train accu:0.734,Test accu:0.734800\n",
      "Epochs:22, Train loss:1.92,Train accu:0.734,Test accu:0.734400\n",
      "Epochs:23, Train loss:1.90,Train accu:0.734,Test accu:0.735900\n",
      "Epochs:24, Train loss:1.89,Train accu:0.745,Test accu:0.748100\n",
      "Epochs:25, Train loss:1.88,Train accu:0.759,Test accu:0.765600\n",
      "Epochs:26, Train loss:1.87,Train accu:0.776,Test accu:0.789500\n",
      "Epochs:27, Train loss:1.86,Train accu:0.786,Test accu:0.799600\n",
      "Epochs:28, Train loss:1.85,Train accu:0.792,Test accu:0.803300\n",
      "Epochs:29, Train loss:1.85,Train accu:0.794,Test accu:0.807100\n",
      "Epochs:30, Train loss:1.84,Train accu:0.794,Test accu:0.807500\n",
      "Epochs:31, Train loss:1.84,Train accu:0.791,Test accu:0.805600\n",
      "Epochs:32, Train loss:1.83,Train accu:0.790,Test accu:0.805400\n"
     ]
    }
   ],
   "source": [
    "s.run(tf.global_variables_initializer())\n",
    "for epoch in range(epochs):\n",
    "    arr = np.arange(X_train.shape[0])\n",
    "    np.random.shuffle(arr)\n",
    "    for index in range(0,X_train.shape[0],batch_size):\n",
    "        s.run(optimizer,{input_X:X_train[arr[index:index+batch_size]],input_Y:Y_train[arr[index:index+batch_size]],keep_prob:dropout_prob})\n",
    "        training_accuracy.append(s.run(accuracy,feed_dict={input_X:X_train,input_Y:Y_train,keep_prob:1}))\n",
    "        testing_accuracy.append(accuracy_score(Y_test.argmax(1),s.run(predicted_y,{input_X:X_test,keep_prob:1}).argmax(1)))\n",
    "        training_loss.append(s.run(loss,{input_X:X_train,input_Y:Y_train,keep_prob:1}))\n",
    "    print(\"Epochs:{0}, Train loss:{1:.2f},Train accu:{2:.3f},Test accu:{3:3f}\".format(epoch,training_loss[epoch],training_accuracy[epoch],testing_accuracy[epoch]))"
   ]
  }
 ],
 "metadata": {
  "kernelspec": {
   "display_name": "Python 3 (ipykernel)",
   "language": "python",
   "name": "python3"
  },
  "language_info": {
   "codemirror_mode": {
    "name": "ipython",
    "version": 3
   },
   "file_extension": ".py",
   "mimetype": "text/x-python",
   "name": "python",
   "nbconvert_exporter": "python",
   "pygments_lexer": "ipython3",
   "version": "3.9.7"
  }
 },
 "nbformat": 4,
 "nbformat_minor": 5
}
